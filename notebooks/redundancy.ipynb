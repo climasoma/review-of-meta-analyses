{
 "cells": [
  {
   "cell_type": "markdown",
   "metadata": {
    "iooxa": {
     "id": {
      "block": "J01U7p54GFU9y8ZK6kO9",
      "project": "UQpQnbX8k8j6zcU3ZLtz",
      "version": 1
     }
    }
   },
   "source": [
    "# Redundancy analysis inside selected meta-analyses\n",
    "Each meta-analysis is based on primary studies. In this notebook, we study the redundancy between meta-analysis:\n",
    "- How many primary studies are shared between two meta-analysis?\n",
    "- How many shared primary studies are included in each meta-analysis?"
   ]
  },
  {
   "cell_type": "code",
   "execution_count": 4,
   "metadata": {
    "iooxa": {
     "id": {
      "block": "OwjgphImWb8j5596wy0Y",
      "project": "UQpQnbX8k8j6zcU3ZLtz",
      "version": 1
     },
     "outputId": null
    }
   },
   "outputs": [],
   "source": [
    "import pandas as pd\n",
    "import numpy as np\n",
    "import matplotlib.pyplot as plt\n",
    "import time\n",
    "import warnings\n",
    "warnings.simplefilter('ignore')\n",
    "\n",
    "datadir = '../data/'\n",
    "metadir = datadir + 'meta/'\n",
    "outputdir = '../figures/'"
   ]
  },
  {
   "cell_type": "markdown",
   "metadata": {
    "iooxa": {
     "id": {
      "block": "PdwWpN3M6fSCXep4GFj7",
      "project": "UQpQnbX8k8j6zcU3ZLtz",
      "version": 1
     }
    }
   },
   "source": [
    "## Extracting list of primary studies\n",
    "\n",
    "For each meta-analysis we extracted the list of the primary studies it used. We extracted at least the first author name, publication date, publication title and DOI (when available). This process was semi-automated, often based on the supplementary materials available or the tables inside the paper. Information available were completed through requests throught the Cross-Ref database and manually checked. For each meta-analysis, a .xlsx file containing the list of the primary studies is available in the `data/meta/` folder."
   ]
  },
  {
   "cell_type": "markdown",
   "metadata": {
    "iooxa": {
     "id": {
      "block": "mRfAySJGqQrxkIpUkIol",
      "project": "UQpQnbX8k8j6zcU3ZLtz",
      "version": 1
     }
    },
    "tags": []
   },
   "source": [
    "## Redundancy analysis\n",
    "See which studies are shared among different meta-analyses."
   ]
  },
  {
   "cell_type": "code",
   "execution_count": 5,
   "metadata": {
    "iooxa": {
     "id": {
      "block": "hujkXlYQgKU47l2HT9Ht",
      "project": "UQpQnbX8k8j6zcU3ZLtz",
      "version": 2
     },
     "outputId": {
      "block": "mT7ApvIxcHJ37pMcxfV2",
      "project": "UQpQnbX8k8j6zcU3ZLtz",
      "version": 2
     }
    }
   },
   "outputs": [],
   "source": [
    "# fetch all meta-analysis\n",
    "dfref = pd.read_excel(datadir + '../CLIMASOMA meta-analysis.xlsx', sheet_name='metaAnalysis', skiprows=2)"
   ]
  },
  {
   "cell_type": "code",
   "execution_count": 6,
   "metadata": {
    "iooxa": {
     "id": {
      "block": "XqiBoeSenoyyGl8LoEIQ",
      "project": "UQpQnbX8k8j6zcU3ZLtz",
      "version": 2
     },
     "outputId": {
      "block": "HdGaN5yRP6KnRLWxRTI4",
      "project": "UQpQnbX8k8j6zcU3ZLtz",
      "version": 2
     }
    }
   },
   "outputs": [
    {
     "name": "stdout",
     "output_type": "stream",
     "text": [
      "bai2018         removed  1 duplicates\n",
      "edeh2020        removed  1 duplicates\n",
      "lee2019         removed 34 duplicates\n",
      "meyer2019       removed  2 duplicates\n",
      "peixoto2020     removed  2 duplicates\n",
      "islam2021       removed  1 duplicates\n",
      "du2018          removed  1 duplicates\n",
      "cheng2021a      removed  6 duplicates\n",
      "yu2021          removed  2 duplicates\n",
      "cheng2021b      removed  5 duplicates\n",
      "cheng2021c      removed  3 duplicates\n"
     ]
    },
    {
     "data": {
      "text/html": [
       "<div>\n",
       "<style scoped>\n",
       "    .dataframe tbody tr th:only-of-type {\n",
       "        vertical-align: middle;\n",
       "    }\n",
       "\n",
       "    .dataframe tbody tr th {\n",
       "        vertical-align: top;\n",
       "    }\n",
       "\n",
       "    .dataframe thead th {\n",
       "        text-align: right;\n",
       "    }\n",
       "</style>\n",
       "<table border=\"1\" class=\"dataframe\">\n",
       "  <thead>\n",
       "    <tr style=\"text-align: right;\">\n",
       "      <th></th>\n",
       "      <th>author</th>\n",
       "      <th>year</th>\n",
       "      <th>title</th>\n",
       "      <th>DOI</th>\n",
       "      <th>pubid</th>\n",
       "    </tr>\n",
       "  </thead>\n",
       "  <tbody>\n",
       "    <tr>\n",
       "      <th>0</th>\n",
       "      <td>abiven</td>\n",
       "      <td>2009.0</td>\n",
       "      <td>the effects of organic inputs over time on soi...</td>\n",
       "      <td>10.1016/j.soilbio.2008.09.015</td>\n",
       "      <td>bai2018</td>\n",
       "    </tr>\n",
       "    <tr>\n",
       "      <th>1</th>\n",
       "      <td>alakukku</td>\n",
       "      <td>2009.0</td>\n",
       "      <td>grain yield and nutrient balance of spring cer...</td>\n",
       "      <td>10.1016/j.still.2011.10.015</td>\n",
       "      <td>bai2018</td>\n",
       "    </tr>\n",
       "    <tr>\n",
       "      <th>2</th>\n",
       "      <td>albiach</td>\n",
       "      <td>2001.0</td>\n",
       "      <td>organic matter components and aggregate stabil...</td>\n",
       "      <td>10.1016/s0960-8524(00)00090-0</td>\n",
       "      <td>bai2018</td>\n",
       "    </tr>\n",
       "    <tr>\n",
       "      <th>3</th>\n",
       "      <td>alvarez</td>\n",
       "      <td>1994.0</td>\n",
       "      <td>soil organic carbon, microbial biomass and c02...</td>\n",
       "      <td>10.1016/0167-1987(94)00432-e</td>\n",
       "      <td>bai2018</td>\n",
       "    </tr>\n",
       "    <tr>\n",
       "      <th>4</th>\n",
       "      <td>arrigo</td>\n",
       "      <td>1993.0</td>\n",
       "      <td>cropping rotations: effect on aggregate stabil...</td>\n",
       "      <td>10.1080/00103629309368966</td>\n",
       "      <td>bai2018</td>\n",
       "    </tr>\n",
       "    <tr>\n",
       "      <th>...</th>\n",
       "      <td>...</td>\n",
       "      <td>...</td>\n",
       "      <td>...</td>\n",
       "      <td>...</td>\n",
       "      <td>...</td>\n",
       "    </tr>\n",
       "    <tr>\n",
       "      <th>3031</th>\n",
       "      <td>yazar</td>\n",
       "      <td>2003.0</td>\n",
       "      <td>sustainable use of highly saline water for irr...</td>\n",
       "      <td>None</td>\n",
       "      <td>cheng2021c</td>\n",
       "    </tr>\n",
       "    <tr>\n",
       "      <th>3032</th>\n",
       "      <td>zayton</td>\n",
       "      <td>2009.0</td>\n",
       "      <td>effect of water salinity and potassium fertili...</td>\n",
       "      <td>10.21608/mjae.2009.109866</td>\n",
       "      <td>cheng2021c</td>\n",
       "    </tr>\n",
       "    <tr>\n",
       "      <th>3033</th>\n",
       "      <td>zhai</td>\n",
       "      <td>2015.0</td>\n",
       "      <td>the effects of saline water drip irrigation on...</td>\n",
       "      <td>10.1371/journal.pone.0142204</td>\n",
       "      <td>cheng2021c</td>\n",
       "    </tr>\n",
       "    <tr>\n",
       "      <th>3034</th>\n",
       "      <td>zhai</td>\n",
       "      <td>2016.0</td>\n",
       "      <td>soil salt distribution and tomato response to ...</td>\n",
       "      <td>10.1371/journal.pone.0165985</td>\n",
       "      <td>cheng2021c</td>\n",
       "    </tr>\n",
       "    <tr>\n",
       "      <th>3035</th>\n",
       "      <td>zhang</td>\n",
       "      <td>2014.0</td>\n",
       "      <td>effects of drip irrigation with saline water o...</td>\n",
       "      <td>None</td>\n",
       "      <td>cheng2021c</td>\n",
       "    </tr>\n",
       "  </tbody>\n",
       "</table>\n",
       "<p>3036 rows × 5 columns</p>\n",
       "</div>"
      ],
      "text/plain": [
       "        author    year                                              title  \\\n",
       "0       abiven  2009.0  the effects of organic inputs over time on soi...   \n",
       "1     alakukku  2009.0  grain yield and nutrient balance of spring cer...   \n",
       "2      albiach  2001.0  organic matter components and aggregate stabil...   \n",
       "3      alvarez  1994.0  soil organic carbon, microbial biomass and c02...   \n",
       "4       arrigo  1993.0  cropping rotations: effect on aggregate stabil...   \n",
       "...        ...     ...                                                ...   \n",
       "3031     yazar  2003.0  sustainable use of highly saline water for irr...   \n",
       "3032    zayton  2009.0  effect of water salinity and potassium fertili...   \n",
       "3033      zhai  2015.0  the effects of saline water drip irrigation on...   \n",
       "3034      zhai  2016.0  soil salt distribution and tomato response to ...   \n",
       "3035     zhang  2014.0  effects of drip irrigation with saline water o...   \n",
       "\n",
       "                                DOI       pubid  \n",
       "0     10.1016/j.soilbio.2008.09.015     bai2018  \n",
       "1       10.1016/j.still.2011.10.015     bai2018  \n",
       "2     10.1016/s0960-8524(00)00090-0     bai2018  \n",
       "3      10.1016/0167-1987(94)00432-e     bai2018  \n",
       "4         10.1080/00103629309368966     bai2018  \n",
       "...                             ...         ...  \n",
       "3031                           None  cheng2021c  \n",
       "3032      10.21608/mjae.2009.109866  cheng2021c  \n",
       "3033   10.1371/journal.pone.0142204  cheng2021c  \n",
       "3034   10.1371/journal.pone.0165985  cheng2021c  \n",
       "3035                           None  cheng2021c  \n",
       "\n",
       "[3036 rows x 5 columns]"
      ]
     },
     "execution_count": 6,
     "metadata": {},
     "output_type": "execute_result"
    }
   ],
   "source": [
    "# load them all\n",
    "metadic = {}\n",
    "pubid = dfref['Publication ID'].values\n",
    "for i in range(dfref.shape[0]):\n",
    "    fname = dfref.loc[i, 'Publication ID']\n",
    "    if fname != 'li2019': # skip it as it's the same as li2020\n",
    "        metadic[fname] = {\n",
    "                     'DOI': dfref.loc[i, 'DOI'],\n",
    "                     'df': pd.read_excel(metadir + fname + '.xlsx')}\n",
    "    \n",
    "# build a big dataframe\n",
    "dfall = pd.DataFrame()\n",
    "for key in metadic.keys():\n",
    "    df = metadic[key]['df']\n",
    "    try:\n",
    "        sdf = df[df['inMeta'] == 1][['author','year','title','DOI']]\n",
    "        sdf['pubid'] = key\n",
    "        a = sdf.shape[0]\n",
    "        # to remove duplicates in the study itself\n",
    "        sdf = sdf.groupby(['author','year','title']).first().reset_index()\n",
    "        if a - sdf.shape[0] > 0:\n",
    "            print('{:15s} removed {:2d} duplicates'.format(key, a - sdf.shape[0]))\n",
    "        dfall = dfall.append(sdf)\n",
    "    except Exception as e:\n",
    "        print('error with', key, e)\n",
    "dfall = dfall.reset_index(drop=True)\n",
    "dfall['author'] = dfall['author'].str.lower()\n",
    "#dfall['year'] = dfall['year'].astype(int)\n",
    "dfall['title'] = dfall['title'].map(str).str.lower().str.strip()\n",
    "dfall['title'] = [a[:-1] if a[-1] == '.' else a for a in dfall['title']]\n",
    "dfall['DOI'] = dfall['DOI'].str.lower()\n",
    "dfall.to_excel(metadir + 'allpub.xlsx', index=False)\n",
    "dfall"
   ]
  },
  {
   "cell_type": "code",
   "execution_count": 7,
   "metadata": {
    "iooxa": {
     "id": {
      "block": "CBDY4NOYOBcP3ju0sxDW",
      "project": "UQpQnbX8k8j6zcU3ZLtz",
      "version": 1
     },
     "outputId": null
    }
   },
   "outputs": [],
   "source": [
    "dfall = pd.read_excel(metadir + 'allpub.xlsx')"
   ]
  },
  {
   "cell_type": "code",
   "execution_count": 8,
   "metadata": {
    "iooxa": {
     "id": {
      "block": "yDqWtE52JvAjv2N0k09x",
      "project": "UQpQnbX8k8j6zcU3ZLtz",
      "version": 2
     },
     "outputId": {
      "block": "z0FSPvDEbTpl82LyhVl0",
      "project": "UQpQnbX8k8j6zcU3ZLtz",
      "version": 2
     }
    }
   },
   "outputs": [
    {
     "data": {
      "text/plain": [
       "author      0\n",
       "year        0\n",
       "title       0\n",
       "DOI       431\n",
       "pubid       0\n",
       "dtype: int64"
      ]
     },
     "execution_count": 8,
     "metadata": {},
     "output_type": "execute_result"
    }
   ],
   "source": [
    "# number of NaN (missing DOI)\n",
    "dfall.isna().sum()"
   ]
  },
  {
   "cell_type": "code",
   "execution_count": 9,
   "metadata": {
    "iooxa": {
     "id": {
      "block": "sVt4LFbmNLt59TVySoA6",
      "project": "UQpQnbX8k8j6zcU3ZLtz",
      "version": 2
     },
     "outputId": {
      "block": "9ln4yxzPsy93hNZynkg2",
      "project": "UQpQnbX8k8j6zcU3ZLtz",
      "version": 2
     }
    }
   },
   "outputs": [
    {
     "data": {
      "text/plain": [
       "author      0\n",
       "year        0\n",
       "DOI       403\n",
       "pubid       0\n",
       "dtype: int64"
      ]
     },
     "execution_count": 9,
     "metadata": {},
     "output_type": "execute_result"
    }
   ],
   "source": [
    "# number of NaN after grouping per title (missing DOI)\n",
    "dfall.groupby('title').first().isna().sum()"
   ]
  },
  {
   "cell_type": "code",
   "execution_count": 10,
   "metadata": {
    "iooxa": {
     "id": {
      "block": "DTsNxch8o2PcIcJPYIJN",
      "project": "UQpQnbX8k8j6zcU3ZLtz",
      "version": 2
     },
     "outputId": {
      "block": "d7rKNM5uo19F42NMOJV7",
      "project": "UQpQnbX8k8j6zcU3ZLtz",
      "version": 2
     }
    }
   },
   "outputs": [
    {
     "data": {
      "text/html": [
       "<div>\n",
       "<style scoped>\n",
       "    .dataframe tbody tr th:only-of-type {\n",
       "        vertical-align: middle;\n",
       "    }\n",
       "\n",
       "    .dataframe tbody tr th {\n",
       "        vertical-align: top;\n",
       "    }\n",
       "\n",
       "    .dataframe thead th {\n",
       "        text-align: right;\n",
       "    }\n",
       "</style>\n",
       "<table border=\"1\" class=\"dataframe\">\n",
       "  <thead>\n",
       "    <tr style=\"text-align: right;\">\n",
       "      <th></th>\n",
       "      <th>pubid</th>\n",
       "      <th>author</th>\n",
       "      <th>year</th>\n",
       "      <th>title</th>\n",
       "      <th>DOI</th>\n",
       "    </tr>\n",
       "  </thead>\n",
       "  <tbody>\n",
       "    <tr>\n",
       "      <th>0</th>\n",
       "      <td>bai2018</td>\n",
       "      <td>125</td>\n",
       "      <td>125</td>\n",
       "      <td>125</td>\n",
       "      <td>81</td>\n",
       "    </tr>\n",
       "    <tr>\n",
       "      <th>1</th>\n",
       "      <td>basche2017</td>\n",
       "      <td>26</td>\n",
       "      <td>26</td>\n",
       "      <td>26</td>\n",
       "      <td>26</td>\n",
       "    </tr>\n",
       "    <tr>\n",
       "      <th>2</th>\n",
       "      <td>basche2019</td>\n",
       "      <td>89</td>\n",
       "      <td>89</td>\n",
       "      <td>89</td>\n",
       "      <td>88</td>\n",
       "    </tr>\n",
       "    <tr>\n",
       "      <th>3</th>\n",
       "      <td>byrnes2018</td>\n",
       "      <td>63</td>\n",
       "      <td>63</td>\n",
       "      <td>63</td>\n",
       "      <td>60</td>\n",
       "    </tr>\n",
       "    <tr>\n",
       "      <th>4</th>\n",
       "      <td>cheng2021a</td>\n",
       "      <td>84</td>\n",
       "      <td>84</td>\n",
       "      <td>84</td>\n",
       "      <td>79</td>\n",
       "    </tr>\n",
       "    <tr>\n",
       "      <th>5</th>\n",
       "      <td>cheng2021b</td>\n",
       "      <td>69</td>\n",
       "      <td>69</td>\n",
       "      <td>69</td>\n",
       "      <td>35</td>\n",
       "    </tr>\n",
       "    <tr>\n",
       "      <th>6</th>\n",
       "      <td>cheng2021c</td>\n",
       "      <td>116</td>\n",
       "      <td>116</td>\n",
       "      <td>116</td>\n",
       "      <td>93</td>\n",
       "    </tr>\n",
       "    <tr>\n",
       "      <th>7</th>\n",
       "      <td>delonge2018</td>\n",
       "      <td>37</td>\n",
       "      <td>37</td>\n",
       "      <td>37</td>\n",
       "      <td>37</td>\n",
       "    </tr>\n",
       "    <tr>\n",
       "      <th>8</th>\n",
       "      <td>du2018</td>\n",
       "      <td>26</td>\n",
       "      <td>26</td>\n",
       "      <td>26</td>\n",
       "      <td>12</td>\n",
       "    </tr>\n",
       "    <tr>\n",
       "      <th>9</th>\n",
       "      <td>edeh2020</td>\n",
       "      <td>37</td>\n",
       "      <td>37</td>\n",
       "      <td>37</td>\n",
       "      <td>35</td>\n",
       "    </tr>\n",
       "    <tr>\n",
       "      <th>10</th>\n",
       "      <td>gao2020</td>\n",
       "      <td>43</td>\n",
       "      <td>43</td>\n",
       "      <td>43</td>\n",
       "      <td>24</td>\n",
       "    </tr>\n",
       "    <tr>\n",
       "      <th>11</th>\n",
       "      <td>gravuer2018</td>\n",
       "      <td>92</td>\n",
       "      <td>92</td>\n",
       "      <td>92</td>\n",
       "      <td>89</td>\n",
       "    </tr>\n",
       "    <tr>\n",
       "      <th>12</th>\n",
       "      <td>islam2021</td>\n",
       "      <td>115</td>\n",
       "      <td>115</td>\n",
       "      <td>115</td>\n",
       "      <td>67</td>\n",
       "    </tr>\n",
       "    <tr>\n",
       "      <th>13</th>\n",
       "      <td>jian2020</td>\n",
       "      <td>281</td>\n",
       "      <td>281</td>\n",
       "      <td>281</td>\n",
       "      <td>253</td>\n",
       "    </tr>\n",
       "    <tr>\n",
       "      <th>14</th>\n",
       "      <td>lee2019</td>\n",
       "      <td>155</td>\n",
       "      <td>155</td>\n",
       "      <td>155</td>\n",
       "      <td>146</td>\n",
       "    </tr>\n",
       "    <tr>\n",
       "      <th>15</th>\n",
       "      <td>li2020</td>\n",
       "      <td>218</td>\n",
       "      <td>218</td>\n",
       "      <td>218</td>\n",
       "      <td>170</td>\n",
       "    </tr>\n",
       "    <tr>\n",
       "      <th>16</th>\n",
       "      <td>liu2021</td>\n",
       "      <td>85</td>\n",
       "      <td>85</td>\n",
       "      <td>85</td>\n",
       "      <td>78</td>\n",
       "    </tr>\n",
       "    <tr>\n",
       "      <th>17</th>\n",
       "      <td>lu2019</td>\n",
       "      <td>25</td>\n",
       "      <td>25</td>\n",
       "      <td>25</td>\n",
       "      <td>20</td>\n",
       "    </tr>\n",
       "    <tr>\n",
       "      <th>18</th>\n",
       "      <td>lu2020</td>\n",
       "      <td>39</td>\n",
       "      <td>39</td>\n",
       "      <td>39</td>\n",
       "      <td>19</td>\n",
       "    </tr>\n",
       "    <tr>\n",
       "      <th>19</th>\n",
       "      <td>meyer2019</td>\n",
       "      <td>37</td>\n",
       "      <td>37</td>\n",
       "      <td>37</td>\n",
       "      <td>31</td>\n",
       "    </tr>\n",
       "    <tr>\n",
       "      <th>20</th>\n",
       "      <td>mhazo2016</td>\n",
       "      <td>41</td>\n",
       "      <td>41</td>\n",
       "      <td>41</td>\n",
       "      <td>34</td>\n",
       "    </tr>\n",
       "    <tr>\n",
       "      <th>21</th>\n",
       "      <td>mondal2020</td>\n",
       "      <td>522</td>\n",
       "      <td>522</td>\n",
       "      <td>522</td>\n",
       "      <td>521</td>\n",
       "    </tr>\n",
       "    <tr>\n",
       "      <th>22</th>\n",
       "      <td>omondi2016</td>\n",
       "      <td>34</td>\n",
       "      <td>34</td>\n",
       "      <td>34</td>\n",
       "      <td>25</td>\n",
       "    </tr>\n",
       "    <tr>\n",
       "      <th>23</th>\n",
       "      <td>peixoto2020</td>\n",
       "      <td>58</td>\n",
       "      <td>58</td>\n",
       "      <td>58</td>\n",
       "      <td>56</td>\n",
       "    </tr>\n",
       "    <tr>\n",
       "      <th>24</th>\n",
       "      <td>qin2016</td>\n",
       "      <td>55</td>\n",
       "      <td>55</td>\n",
       "      <td>55</td>\n",
       "      <td>55</td>\n",
       "    </tr>\n",
       "    <tr>\n",
       "      <th>25</th>\n",
       "      <td>rabbi2021</td>\n",
       "      <td>105</td>\n",
       "      <td>105</td>\n",
       "      <td>105</td>\n",
       "      <td>100</td>\n",
       "    </tr>\n",
       "    <tr>\n",
       "      <th>26</th>\n",
       "      <td>ranaivoson2017</td>\n",
       "      <td>53</td>\n",
       "      <td>53</td>\n",
       "      <td>53</td>\n",
       "      <td>40</td>\n",
       "    </tr>\n",
       "    <tr>\n",
       "      <th>27</th>\n",
       "      <td>shackelford2019</td>\n",
       "      <td>59</td>\n",
       "      <td>59</td>\n",
       "      <td>59</td>\n",
       "      <td>54</td>\n",
       "    </tr>\n",
       "    <tr>\n",
       "      <th>28</th>\n",
       "      <td>sun2015</td>\n",
       "      <td>77</td>\n",
       "      <td>77</td>\n",
       "      <td>77</td>\n",
       "      <td>68</td>\n",
       "    </tr>\n",
       "    <tr>\n",
       "      <th>29</th>\n",
       "      <td>winter2018</td>\n",
       "      <td>71</td>\n",
       "      <td>71</td>\n",
       "      <td>71</td>\n",
       "      <td>65</td>\n",
       "    </tr>\n",
       "    <tr>\n",
       "      <th>30</th>\n",
       "      <td>xiong2018</td>\n",
       "      <td>80</td>\n",
       "      <td>80</td>\n",
       "      <td>80</td>\n",
       "      <td>42</td>\n",
       "    </tr>\n",
       "    <tr>\n",
       "      <th>31</th>\n",
       "      <td>yu2020</td>\n",
       "      <td>41</td>\n",
       "      <td>41</td>\n",
       "      <td>41</td>\n",
       "      <td>38</td>\n",
       "    </tr>\n",
       "    <tr>\n",
       "      <th>32</th>\n",
       "      <td>yu2021</td>\n",
       "      <td>78</td>\n",
       "      <td>78</td>\n",
       "      <td>78</td>\n",
       "      <td>64</td>\n",
       "    </tr>\n",
       "  </tbody>\n",
       "</table>\n",
       "</div>"
      ],
      "text/plain": [
       "              pubid  author  year  title  DOI\n",
       "0           bai2018     125   125    125   81\n",
       "1        basche2017      26    26     26   26\n",
       "2        basche2019      89    89     89   88\n",
       "3        byrnes2018      63    63     63   60\n",
       "4        cheng2021a      84    84     84   79\n",
       "5        cheng2021b      69    69     69   35\n",
       "6        cheng2021c     116   116    116   93\n",
       "7       delonge2018      37    37     37   37\n",
       "8            du2018      26    26     26   12\n",
       "9          edeh2020      37    37     37   35\n",
       "10          gao2020      43    43     43   24\n",
       "11      gravuer2018      92    92     92   89\n",
       "12        islam2021     115   115    115   67\n",
       "13         jian2020     281   281    281  253\n",
       "14          lee2019     155   155    155  146\n",
       "15           li2020     218   218    218  170\n",
       "16          liu2021      85    85     85   78\n",
       "17           lu2019      25    25     25   20\n",
       "18           lu2020      39    39     39   19\n",
       "19        meyer2019      37    37     37   31\n",
       "20        mhazo2016      41    41     41   34\n",
       "21       mondal2020     522   522    522  521\n",
       "22       omondi2016      34    34     34   25\n",
       "23      peixoto2020      58    58     58   56\n",
       "24          qin2016      55    55     55   55\n",
       "25        rabbi2021     105   105    105  100\n",
       "26   ranaivoson2017      53    53     53   40\n",
       "27  shackelford2019      59    59     59   54\n",
       "28          sun2015      77    77     77   68\n",
       "29       winter2018      71    71     71   65\n",
       "30        xiong2018      80    80     80   42\n",
       "31           yu2020      41    41     41   38\n",
       "32           yu2021      78    78     78   64"
      ]
     },
     "execution_count": 10,
     "metadata": {},
     "output_type": "execute_result"
    }
   ],
   "source": [
    "# number of study per meta-analysis\n",
    "dfall.groupby('pubid').count().reset_index()"
   ]
  },
  {
   "cell_type": "code",
   "execution_count": 11,
   "metadata": {
    "iooxa": {
     "id": {
      "block": "GAtPxi5AFJCoGPpSTjqD",
      "project": "UQpQnbX8k8j6zcU3ZLtz",
      "version": 1
     },
     "outputId": {
      "block": "ZiHSbJmNwaolq0OtGAPr",
      "project": "UQpQnbX8k8j6zcU3ZLtz",
      "version": 1
     }
    }
   },
   "outputs": [
    {
     "name": "stdout",
     "output_type": "stream",
     "text": [
      "581\n",
      "(526, 6)\n"
     ]
    }
   ],
   "source": [
    "# publication with same author and year but different title\n",
    "dfall['ucol'] = dfall['author'] + dfall['year'].map(str)\n",
    "df = dfall.groupby('title').first().reset_index()\n",
    "dfg = df.groupby('ucol')\n",
    "dfc = dfg.count().reset_index()\n",
    "dft = dfg.first().reset_index()\n",
    "ie = dfc['title'] > 1\n",
    "im = dfall['ucol'].isin(dfc[ie]['ucol'])\n",
    "print(np.sum(im))\n",
    "dfu = dfall[im].groupby('title').first().reset_index()\n",
    "# irrigmeta = ['du2018', 'yu2020', 'cheng2021a', 'lu2019', 'yu2021', 'qin2016', 'cheng2021b', 'cheng2021c']\n",
    "# ie = dfu['pubid'].isin(irrigmeta) | dfu['ucol'].isin(irrigmeta)\n",
    "# dfu = dfu[ie]\n",
    "dfu = dfu.sort_values(by=['author','year','title','pubid']).reset_index(drop=True)\n",
    "print(dfu.shape)\n",
    "dfu.to_csv(metadir + 'dfu.csv', index=False)\n",
    "# then manualy check if they are same title with different spelling and change that in the original excel"
   ]
  },
  {
   "cell_type": "code",
   "execution_count": 12,
   "metadata": {
    "iooxa": {
     "id": {
      "block": "HoQhuF4HUsOfr0e1MK07",
      "project": "UQpQnbX8k8j6zcU3ZLtz",
      "version": 2
     },
     "outputId": {
      "block": "OhWbSdRrMF7QH6M9TncI",
      "project": "UQpQnbX8k8j6zcU3ZLtz",
      "version": 2
     }
    }
   },
   "outputs": [
    {
     "data": {
      "text/html": [
       "<div>\n",
       "<style scoped>\n",
       "    .dataframe tbody tr th:only-of-type {\n",
       "        vertical-align: middle;\n",
       "    }\n",
       "\n",
       "    .dataframe tbody tr th {\n",
       "        vertical-align: top;\n",
       "    }\n",
       "\n",
       "    .dataframe thead th {\n",
       "        text-align: right;\n",
       "    }\n",
       "</style>\n",
       "<table border=\"1\" class=\"dataframe\">\n",
       "  <thead>\n",
       "    <tr style=\"text-align: right;\">\n",
       "      <th></th>\n",
       "      <th>title</th>\n",
       "      <th>author</th>\n",
       "      <th>year</th>\n",
       "      <th>DOI</th>\n",
       "      <th>pubid</th>\n",
       "      <th>ucol</th>\n",
       "    </tr>\n",
       "  </thead>\n",
       "  <tbody>\n",
       "  </tbody>\n",
       "</table>\n",
       "</div>"
      ],
      "text/plain": [
       "Empty DataFrame\n",
       "Columns: [title, author, year, DOI, pubid, ucol]\n",
       "Index: []"
      ]
     },
     "execution_count": 12,
     "metadata": {},
     "output_type": "execute_result"
    }
   ],
   "source": [
    "# further assess if DOI are unique to each study\n",
    "ie = dfu['DOI'] != ''\n",
    "dfd = dfu[ie].groupby('DOI').agg({'author':'first','year':'count','title':'first'}).reset_index()\n",
    "dois = dfd[dfd['year'] > 1]['DOI']\n",
    "ie = dfu['DOI'].isin(dois)\n",
    "dfu[ie].to_csv(metadir + 'df-doi.csv', index=False)\n",
    "dfu[ie] # should be empty"
   ]
  },
  {
   "cell_type": "code",
   "execution_count": 13,
   "metadata": {
    "iooxa": {
     "id": {
      "block": "xCUBaSeDyplnip67PIFW",
      "project": "UQpQnbX8k8j6zcU3ZLtz",
      "version": 2
     },
     "outputId": {
      "block": "NWm589bm43vL3wuqL552",
      "project": "UQpQnbX8k8j6zcU3ZLtz",
      "version": 2
     }
    }
   },
   "outputs": [
    {
     "data": {
      "text/html": [
       "<div>\n",
       "<style scoped>\n",
       "    .dataframe tbody tr th:only-of-type {\n",
       "        vertical-align: middle;\n",
       "    }\n",
       "\n",
       "    .dataframe tbody tr th {\n",
       "        vertical-align: top;\n",
       "    }\n",
       "\n",
       "    .dataframe thead th {\n",
       "        text-align: right;\n",
       "    }\n",
       "</style>\n",
       "<table border=\"1\" class=\"dataframe\">\n",
       "  <thead>\n",
       "    <tr style=\"text-align: right;\">\n",
       "      <th></th>\n",
       "      <th>author</th>\n",
       "      <th>year</th>\n",
       "      <th>title</th>\n",
       "      <th>DOI</th>\n",
       "      <th>pubid</th>\n",
       "      <th>ucol</th>\n",
       "      <th>yearWrong</th>\n",
       "    </tr>\n",
       "  </thead>\n",
       "  <tbody>\n",
       "  </tbody>\n",
       "</table>\n",
       "</div>"
      ],
      "text/plain": [
       "Empty DataFrame\n",
       "Columns: [author, year, title, DOI, pubid, ucol, yearWrong]\n",
       "Index: []"
      ]
     },
     "execution_count": 13,
     "metadata": {},
     "output_type": "execute_result"
    }
   ],
   "source": [
    "dfall['yearWrong'] = False\n",
    "for i in range(dfall.shape[0]):\n",
    "    try:\n",
    "        int(dfall.loc[i, 'year'])\n",
    "    except:\n",
    "        dfall.loc[i, 'yearWrong'] = True\n",
    "dfall[dfall['yearWrong']] # should be empty"
   ]
  },
  {
   "cell_type": "markdown",
   "metadata": {
    "iooxa": {
     "id": {
      "block": "T0j2300gf8uhwQJogSxT",
      "project": "UQpQnbX8k8j6zcU3ZLtz",
      "version": 1
     }
    }
   },
   "source": [
    "### Quality check\n",
    "- adding title in the `ucol` makes every studies unique (reduce the number of studies in common) but need to check title parsing manually (see above).\n",
    "- DOI is ok and give similar results to just author + date but 350 studies don't have a DOI\n",
    "- author + date is ok but overestimate the number of shared studies as LiXXXX or ChengXXXX have published a lot of different papers on the same year with different title. Better use author + year + title or doi"
   ]
  },
  {
   "cell_type": "code",
   "execution_count": 14,
   "metadata": {
    "iooxa": {
     "id": {
      "block": "mPHubHg5OdjV4kTYHroW",
      "project": "UQpQnbX8k8j6zcU3ZLtz",
      "version": 2
     },
     "outputId": {
      "block": "Ht1gDBwZtuC51tuBIwkf",
      "project": "UQpQnbX8k8j6zcU3ZLtz",
      "version": 2
     }
    }
   },
   "outputs": [
    {
     "name": "stdout",
     "output_type": "stream",
     "text": [
      "Number of primary studies: 2762\n"
     ]
    },
    {
     "data": {
      "image/png": "[encoded data removed]",
      "text/plain": [
       "<Figure size 864x144 with 1 Axes>"
      ]
     },
     "metadata": {
      "needs_background": "light"
     },
     "output_type": "display_data"
    }
   ],
   "source": [
    "# build co-occurencen matrix\n",
    "ucols = ['author','year','title']\n",
    "dfall['ucol'] = ''\n",
    "for ucol in ucols:\n",
    "    dfall['ucol'] = dfall['ucol'] + dfall[ucol].map(str)\n",
    "uvals = dfall['ucol'].unique()\n",
    "print('Number of primary studies:', len(uvals))\n",
    "umetas = dfall['pubid'].unique()\n",
    "coo = np.zeros((len(uvals), dfall['pubid'].unique().shape[0]), dtype=bool)\n",
    "for i, umeta in enumerate(umetas):\n",
    "    ie = dfall['pubid'] == umeta\n",
    "    coo[:,i] = np.in1d(uvals, dfall[ie]['ucol'].values)\n",
    "\n",
    "fig, ax = plt.subplots(figsize=(12,2))\n",
    "ax.matshow(coo.T, cmap='Greys')\n",
    "ax.set_aspect('auto')\n",
    "ax.set_ylabel('Meta-analysis')\n",
    "ax.set_xlabel('Studies')\n",
    "ax.xaxis.set_label_position('top')"
   ]
  },
  {
   "cell_type": "code",
   "execution_count": 15,
   "metadata": {
    "iooxa": {
     "id": {
      "block": "YhwVI38TEc5dcIAS5WWR",
      "project": "UQpQnbX8k8j6zcU3ZLtz",
      "version": 2
     },
     "outputId": {
      "block": "N69wDDVJ3M75oXgWPpmg",
      "project": "UQpQnbX8k8j6zcU3ZLtz",
      "version": 2
     }
    }
   },
   "outputs": [
    {
     "data": {
      "image/png": "[encoded data removed]",
      "text/plain": [
       "<Figure size 648x504 with 2 Axes>"
      ]
     },
     "metadata": {
      "needs_background": "light"
     },
     "output_type": "display_data"
    }
   ],
   "source": [
    "# shared references between meta-analysis\n",
    "shared = np.zeros((len(umetas), len(umetas)))\n",
    "sharedPrcRow = np.zeros(shared.shape)\n",
    "sharedPrcCol = np.zeros(shared.shape)\n",
    "for i, umeta in enumerate(umetas):\n",
    "    for j, umeta in enumerate(umetas):\n",
    "        shared[i,j] = np.sum(coo[:,i] & coo[:,j]) # number shared\n",
    "        sharedPrcRow[i,j] = np.sum(coo[:,i] & coo[:,j])/np.sum(coo[:,i])*100 # percentage shared\n",
    "        sharedPrcCol[i,j] = np.sum(coo[:,i] & coo[:,j])/np.sum(coo[:,j])*100 # percentage shared\n",
    "\n",
    "fig, ax = plt.subplots(figsize=(9,7))\n",
    "cax = ax.imshow(sharedPrcRow, cmap='Greys')\n",
    "ax.set_aspect('auto')\n",
    "ax.set_ylabel('Meta-analysis')\n",
    "ax.set_xlabel('Studies')\n",
    "ax.set_xticks(np.arange(len(umetas)))\n",
    "ax.set_xticklabels(umetas, rotation=90)\n",
    "ax.set_yticks(np.arange(len(umetas)))\n",
    "ax.set_yticklabels(umetas)\n",
    "fig.colorbar(cax, ax=ax, label='Shared studies between Meta-Analysis [%]')\n",
    "fig.tight_layout()\n",
    "fig.savefig(outputdir + 'shared-studies.jpg', dpi=500)"
   ]
  },
  {
   "cell_type": "markdown",
   "metadata": {
    "iooxa": {
     "id": {
      "block": "pIdaPgdsvW1PgqZQS1qc",
      "project": "UQpQnbX8k8j6zcU3ZLtz",
      "version": 1
     }
    }
   },
   "source": [
    "**Note** that the percentage are percentage of the studies in the rows (not in the columns) of the matrix. This means the the percentage are taken considering the number of studies shared and the total number of studies of the paper in the row."
   ]
  },
  {
   "cell_type": "code",
   "execution_count": 16,
   "metadata": {
    "iooxa": {
     "id": {
      "block": "zOTDjpRgResva0pzFUMf",
      "project": "UQpQnbX8k8j6zcU3ZLtz",
      "version": 2
     },
     "outputId": {
      "block": "mFW8JTj5pL4pBPqjRTMT",
      "project": "UQpQnbX8k8j6zcU3ZLtz",
      "version": 2
     }
    }
   },
   "outputs": [
    {
     "data": {
      "image/png": "[encoded data removed]",
      "text/plain": [
       "<Figure size 720x288 with 1 Axes>"
      ]
     },
     "metadata": {
      "needs_background": "light"
     },
     "output_type": "display_data"
    }
   ],
   "source": [
    "# Beillouin et al graph\n",
    "# WARNING this is not a two way comparison! the percentage are refered to for the rows\n",
    "fig, ax = plt.subplots(figsize=(10, 4))\n",
    "xx = np.arange(len(umetas))\n",
    "y = shared.copy()\n",
    "y[y == 0] = np.nan\n",
    "np.fill_diagonal(y, 0)\n",
    "incommon = np.nansum(y, axis=0)\n",
    "isort = np.argsort(incommon)\n",
    "\n",
    "y = sharedPrcRow.copy()\n",
    "y[y == 100] = np.nan\n",
    "y[y <= 0] = np.nan # discard studies with less than 2% in common\n",
    "counts = np.sum(~np.isnan(y), axis=1)\n",
    "#isort = np.argsort(np.nanmin(y, axis=1))[::-1]\n",
    "#isort = np.arange(len(umetas))\n",
    "ax.plot(xx, y[isort,:], 'o', color='tab:blue')\n",
    "for i in range(len(umetas)):\n",
    "    for j in range(len(umetas)):\n",
    "        if y[i,j] > 25:\n",
    "            xpos = np.where(isort == i)[0][0]\n",
    "            #print('{:14s} (x={:2d}) shared {:.1f}% of its primary studies with {:14s}'.format(\n",
    "            #    umetas[i], xpos, y[i,j], umetas[j]))\n",
    "            ax.plot(xpos, y[i,j], 'o', color='tab:orange')\n",
    "            ax.text(xpos, y[i,j], umetas[j])\n",
    "for i, count in enumerate(counts[isort]):\n",
    "    ax.text(i, -4, count, ha='center')\n",
    "ax.plot([], [], 'o', color='tab:blue', label='<= 25% shared primary')\n",
    "ax.plot([], [], 'o', color='tab:orange', label='> 25% shared primary')\n",
    "ax.legend()\n",
    "ax.set_xticks(xx)\n",
    "ax.set_xticklabels(umetas[isort], rotation=90)\n",
    "ax.set_ylim([-5, None])\n",
    "ax.set_xlim([-1, None])\n",
    "ax.set_ylabel('Shared studies between\\n meta-analyses [%]')\n",
    "fig.tight_layout()\n",
    "fig.savefig(outputdir + 'beillouin-shared.jpg', dpi=500)\n",
    "# counts is the number of meta-analysis with which the MA in the xaxis shared references"
   ]
  },
  {
   "cell_type": "code",
   "execution_count": 17,
   "metadata": {
    "iooxa": {
     "id": {
      "block": "g1lwetAA0ddc2YfXcWli",
      "project": "UQpQnbX8k8j6zcU3ZLtz",
      "version": 2
     },
     "outputId": {
      "block": "OWdFrAbuQtlRUdPjmMh3",
      "project": "UQpQnbX8k8j6zcU3ZLtz",
      "version": 2
     }
    }
   },
   "outputs": [
    {
     "data": {
      "image/png": "[encoded data removed]",
      "text/plain": [
       "<Figure size 576x288 with 1 Axes>"
      ]
     },
     "metadata": {
      "needs_background": "light"
     },
     "output_type": "display_data"
    }
   ],
   "source": [
    "fig, ax = plt.subplots(figsize=(8, 4))\n",
    "y = shared.copy()\n",
    "y[y == 0] = np.nan\n",
    "np.fill_diagonal(y, 0)\n",
    "incommon = np.nansum(y, axis=0)\n",
    "nstudies = np.sum(coo, axis=0)\n",
    "isort = np.argsort(incommon)\n",
    "xx = np.arange(len(umetas))\n",
    "ax.bar(xx, nstudies[isort], label='original', color='tab:blue')\n",
    "ax.bar(xx, incommon[isort], label='shared', color='tab:orange')\n",
    "ax.set_xticks(xx)\n",
    "ax.set_xticklabels(umetas[isort], rotation=90)\n",
    "ax.legend()\n",
    "ax.set_xlabel('Meta-analyses')\n",
    "ax.xaxis.set_label_position('top') \n",
    "ax.set_ylabel('Number of primary studies')\n",
    "ax.invert_yaxis()\n",
    "ax.xaxis.tick_top()\n",
    "fig.tight_layout()\n",
    "fig.savefig(outputdir + 'bellouing-shared-hist.jpg', dpi=500)"
   ]
  },
  {
   "cell_type": "code",
   "execution_count": 18,
   "metadata": {
    "iooxa": {
     "id": {
      "block": "dc5sYCKxh8LqySE27HpX",
      "project": "UQpQnbX8k8j6zcU3ZLtz",
      "version": 2
     },
     "outputId": {
      "block": "5SVLMHPxvZGkD58xEEVc",
      "project": "UQpQnbX8k8j6zcU3ZLtz",
      "version": 2
     }
    }
   },
   "outputs": [
    {
     "data": {
      "image/png": "[encoded data removed]",
      "text/plain": [
       "<Figure size 576x216 with 2 Axes>"
      ]
     },
     "metadata": {
      "needs_background": "light"
     },
     "output_type": "display_data"
    }
   ],
   "source": [
    "fig, ax = plt.subplots(figsize=(8, 3))\n",
    "bins = np.arange(1980, 2021, 1)\n",
    "# pvals, _ = np.histogram(dfall['year'], bins=bins)\n",
    "# pvals = pvals / np.sum(pvals) * 100  # in percent\n",
    "# ax.bar(bins[:-1] + 0.5, pvals, width=0.7, label='Primary studies')\n",
    "# pvals, _ = np.histogram(dfref['Year'], bins=bins)\n",
    "# pvals = pvals / np.sum(pvals) * 100  # in percent\n",
    "# ax.bar(bins[:-1] + 0.5, pvals, width=0.7, label='Meta-analysis')\n",
    "ax.hist(dfall['year'], bins=bins, width=0.7, color='tab:blue')\n",
    "ax.set_xlabel('Publication Year')\n",
    "# ax.set_ylabel('Percentage of studies [%]')\n",
    "ax.set_ylabel('Number of studies', color='tab:blue')\n",
    "#ax.legend()\n",
    "#[ax.axvline(a) for a in dfref['Year']]\n",
    "ax2 = ax.twinx()\n",
    "ax2.hist(dfref['Year'], bins=bins, width=0.4, color='tab:orange')\n",
    "ax2.set_ylabel('Number of meta-analyses', color='tab:orange')\n",
    "fig.tight_layout()\n",
    "fig.savefig(outputdir + 'hist-pub.jpg', dpi=500)"
   ]
  },
  {
   "cell_type": "code",
   "execution_count": null,
   "metadata": {},
   "outputs": [],
   "source": []
  }
 ],
 "metadata": {
  "iooxa": {
   "id": {
    "block": "QZnXPBojftW84ZM5A5vC",
    "project": "UQpQnbX8k8j6zcU3ZLtz",
    "version": 2
   }
  },
  "kernelspec": {
   "display_name": "Python 3",
   "language": "python",
   "name": "python3"
  },
  "language_info": {
   "codemirror_mode": {
    "name": "ipython",
    "version": 3
   },
   "file_extension": ".py",
   "mimetype": "text/x-python",
   "name": "python",
   "nbconvert_exporter": "python",
   "pygments_lexer": "ipython3",
   "version": "3.8.9"
  }
 },
 "nbformat": 4,
 "nbformat_minor": 4
}
